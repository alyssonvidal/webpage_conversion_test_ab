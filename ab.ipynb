{
 "cells": [
  {
   "cell_type": "markdown",
   "id": "fde6c0ac",
   "metadata": {},
   "source": [
    "## Conversão WebPage - Teste A/B\n",
    "\n",
    "Na expectativa de aumentar suas conversões, uma empresa no ramo de e-commerce fez uma mudança da sua webpage, na pagina antiga o processo de preenchimento do cartão de crédito é feito manualmente na pagina nova esse preenchimento é feito de forma automática. \n",
    "\n",
    "O Product Mannager disse a você que a taxa de conversão atual é de aproximadamente de 13% em média ao longo do ano e que a equipe consideraria um sucesso o novo design caso as converções aumentassem para 15%. \n",
    "\n",
    "\n",
    "**Conversão:**<br>\n",
    "0 - O usuário acessou a pagina mas não comprou um produto.<br>\n",
    "1 - O usuário acessou a pagina e comprou um produto."
   ]
  },
  {
   "cell_type": "markdown",
   "id": "b1a16c2d",
   "metadata": {},
   "source": [
    "### Hipotese\n",
    "\n",
    "$H_{0}:\\mu_{old} = \\mu_{new}$ , a média de conversão da pagina antiga é igual a média de conversão da pagina nova<br>\n",
    "$H_{1}:\\mu_{old} \\neq \\mu_{new}$ , a média de conversão da pagina antiga é diferente da média de conversão da pagina nova\n",
    "\n",
    "Nivél de significância: 0,05."
   ]
  },
  {
   "cell_type": "code",
   "execution_count": 38,
   "id": "e64d929a",
   "metadata": {},
   "outputs": [],
   "source": [
    "import seaborn as sns\n",
    "import numpy as np\n",
    "from matplotlib import pyplot as plt\n",
    "%matplotlib inline\n",
    "import pandas as pd\n",
    "from datetime import datetime, time, date\n",
    "import scipy.stats as stats\n",
    "import statsmodels.stats.api as sms\n",
    "from math import ceil\n",
    "from scipy.stats import norm"
   ]
  },
  {
   "cell_type": "code",
   "execution_count": 2,
   "id": "d6e6389e",
   "metadata": {},
   "outputs": [],
   "source": [
    "data = pd.read_csv('data/ab_data.csv')"
   ]
  },
  {
   "cell_type": "code",
   "execution_count": 3,
   "id": "d32092b2",
   "metadata": {},
   "outputs": [
    {
     "data": {
      "text/html": [
       "<div>\n",
       "<style scoped>\n",
       "    .dataframe tbody tr th:only-of-type {\n",
       "        vertical-align: middle;\n",
       "    }\n",
       "\n",
       "    .dataframe tbody tr th {\n",
       "        vertical-align: top;\n",
       "    }\n",
       "\n",
       "    .dataframe thead th {\n",
       "        text-align: right;\n",
       "    }\n",
       "</style>\n",
       "<table border=\"1\" class=\"dataframe\">\n",
       "  <thead>\n",
       "    <tr style=\"text-align: right;\">\n",
       "      <th></th>\n",
       "      <th>user_id</th>\n",
       "      <th>timestamp</th>\n",
       "      <th>group</th>\n",
       "      <th>landing_page</th>\n",
       "      <th>converted</th>\n",
       "    </tr>\n",
       "  </thead>\n",
       "  <tbody>\n",
       "    <tr>\n",
       "      <th>0</th>\n",
       "      <td>851104</td>\n",
       "      <td>2017-01-21 22:11:48.556739</td>\n",
       "      <td>control</td>\n",
       "      <td>old_page</td>\n",
       "      <td>0</td>\n",
       "    </tr>\n",
       "    <tr>\n",
       "      <th>1</th>\n",
       "      <td>804228</td>\n",
       "      <td>2017-01-12 08:01:45.159739</td>\n",
       "      <td>control</td>\n",
       "      <td>old_page</td>\n",
       "      <td>0</td>\n",
       "    </tr>\n",
       "    <tr>\n",
       "      <th>2</th>\n",
       "      <td>661590</td>\n",
       "      <td>2017-01-11 16:55:06.154213</td>\n",
       "      <td>treatment</td>\n",
       "      <td>new_page</td>\n",
       "      <td>0</td>\n",
       "    </tr>\n",
       "    <tr>\n",
       "      <th>3</th>\n",
       "      <td>853541</td>\n",
       "      <td>2017-01-08 18:28:03.143765</td>\n",
       "      <td>treatment</td>\n",
       "      <td>new_page</td>\n",
       "      <td>0</td>\n",
       "    </tr>\n",
       "    <tr>\n",
       "      <th>4</th>\n",
       "      <td>864975</td>\n",
       "      <td>2017-01-21 01:52:26.210827</td>\n",
       "      <td>control</td>\n",
       "      <td>old_page</td>\n",
       "      <td>1</td>\n",
       "    </tr>\n",
       "  </tbody>\n",
       "</table>\n",
       "</div>"
      ],
      "text/plain": [
       "   user_id                   timestamp      group landing_page  converted\n",
       "0   851104  2017-01-21 22:11:48.556739    control     old_page          0\n",
       "1   804228  2017-01-12 08:01:45.159739    control     old_page          0\n",
       "2   661590  2017-01-11 16:55:06.154213  treatment     new_page          0\n",
       "3   853541  2017-01-08 18:28:03.143765  treatment     new_page          0\n",
       "4   864975  2017-01-21 01:52:26.210827    control     old_page          1"
      ]
     },
     "execution_count": 3,
     "metadata": {},
     "output_type": "execute_result"
    }
   ],
   "source": [
    "data.head()"
   ]
  },
  {
   "cell_type": "markdown",
   "id": "18bc1593",
   "metadata": {},
   "source": [
    "### Data preprossesing"
   ]
  },
  {
   "cell_type": "code",
   "execution_count": 4,
   "id": "567c541e",
   "metadata": {},
   "outputs": [
    {
     "name": "stdout",
     "output_type": "stream",
     "text": [
      "<class 'pandas.core.frame.DataFrame'>\n",
      "RangeIndex: 294478 entries, 0 to 294477\n",
      "Data columns (total 5 columns):\n",
      " #   Column        Non-Null Count   Dtype \n",
      "---  ------        --------------   ----- \n",
      " 0   user_id       294478 non-null  int64 \n",
      " 1   timestamp     294478 non-null  object\n",
      " 2   group         294478 non-null  object\n",
      " 3   landing_page  294478 non-null  object\n",
      " 4   converted     294478 non-null  int64 \n",
      "dtypes: int64(2), object(3)\n",
      "memory usage: 11.2+ MB\n"
     ]
    }
   ],
   "source": [
    "data.info()"
   ]
  },
  {
   "cell_type": "code",
   "execution_count": 5,
   "id": "f7fba943",
   "metadata": {},
   "outputs": [],
   "source": [
    "data['timestamp'] = pd.to_datetime(data['timestamp'])"
   ]
  },
  {
   "cell_type": "code",
   "execution_count": 6,
   "id": "a25cea45",
   "metadata": {},
   "outputs": [
    {
     "data": {
      "text/plain": [
       "(Timestamp('2017-01-02 13:42:05.378582'),\n",
       " Timestamp('2017-01-24 13:41:54.460509'))"
      ]
     },
     "execution_count": 6,
     "metadata": {},
     "output_type": "execute_result"
    }
   ],
   "source": [
    "data['timestamp'].min(), data['timestamp'].max()"
   ]
  },
  {
   "cell_type": "code",
   "execution_count": 7,
   "id": "ca43d2c7",
   "metadata": {},
   "outputs": [
    {
     "data": {
      "text/plain": [
       "old_page    147239\n",
       "new_page    147239\n",
       "Name: landing_page, dtype: int64"
      ]
     },
     "execution_count": 7,
     "metadata": {},
     "output_type": "execute_result"
    }
   ],
   "source": [
    "data[\"landing_page\"].value_counts()"
   ]
  },
  {
   "cell_type": "code",
   "execution_count": 8,
   "id": "c7a41711",
   "metadata": {},
   "outputs": [
    {
     "name": "stdout",
     "output_type": "stream",
     "text": [
      "3894\n"
     ]
    }
   ],
   "source": [
    "print(data[\"user_id\"].count() - data[\"user_id\"].nunique())"
   ]
  },
  {
   "cell_type": "code",
   "execution_count": 9,
   "id": "7362f0e1",
   "metadata": {},
   "outputs": [],
   "source": [
    "data.drop_duplicates(subset=['user_id'], inplace=True, keep='first')"
   ]
  },
  {
   "cell_type": "code",
   "execution_count": 10,
   "id": "ae95bbe6",
   "metadata": {},
   "outputs": [
    {
     "data": {
      "text/html": [
       "<div>\n",
       "<style scoped>\n",
       "    .dataframe tbody tr th:only-of-type {\n",
       "        vertical-align: middle;\n",
       "    }\n",
       "\n",
       "    .dataframe tbody tr th {\n",
       "        vertical-align: top;\n",
       "    }\n",
       "\n",
       "    .dataframe thead th {\n",
       "        text-align: right;\n",
       "    }\n",
       "</style>\n",
       "<table border=\"1\" class=\"dataframe\">\n",
       "  <thead>\n",
       "    <tr style=\"text-align: right;\">\n",
       "      <th></th>\n",
       "      <th>converted</th>\n",
       "      <th>landing_page</th>\n",
       "      <th>group</th>\n",
       "    </tr>\n",
       "    <tr>\n",
       "      <th>timestamp</th>\n",
       "      <th></th>\n",
       "      <th></th>\n",
       "      <th></th>\n",
       "    </tr>\n",
       "  </thead>\n",
       "  <tbody>\n",
       "    <tr>\n",
       "      <th>2017-01-02 13:42:05.378582</th>\n",
       "      <td>0</td>\n",
       "      <td>new_page</td>\n",
       "      <td>treatment</td>\n",
       "    </tr>\n",
       "    <tr>\n",
       "      <th>2017-01-02 13:42:15.234051</th>\n",
       "      <td>0</td>\n",
       "      <td>old_page</td>\n",
       "      <td>control</td>\n",
       "    </tr>\n",
       "    <tr>\n",
       "      <th>2017-01-02 13:42:21.786186</th>\n",
       "      <td>0</td>\n",
       "      <td>old_page</td>\n",
       "      <td>control</td>\n",
       "    </tr>\n",
       "    <tr>\n",
       "      <th>2017-01-02 13:42:26.640581</th>\n",
       "      <td>0</td>\n",
       "      <td>new_page</td>\n",
       "      <td>treatment</td>\n",
       "    </tr>\n",
       "    <tr>\n",
       "      <th>2017-01-02 13:42:27.851110</th>\n",
       "      <td>0</td>\n",
       "      <td>new_page</td>\n",
       "      <td>treatment</td>\n",
       "    </tr>\n",
       "    <tr>\n",
       "      <th>...</th>\n",
       "      <td>...</td>\n",
       "      <td>...</td>\n",
       "      <td>...</td>\n",
       "    </tr>\n",
       "    <tr>\n",
       "      <th>2017-01-24 13:41:18.869978</th>\n",
       "      <td>0</td>\n",
       "      <td>old_page</td>\n",
       "      <td>treatment</td>\n",
       "    </tr>\n",
       "    <tr>\n",
       "      <th>2017-01-24 13:41:19.152664</th>\n",
       "      <td>0</td>\n",
       "      <td>old_page</td>\n",
       "      <td>control</td>\n",
       "    </tr>\n",
       "    <tr>\n",
       "      <th>2017-01-24 13:41:44.097174</th>\n",
       "      <td>0</td>\n",
       "      <td>new_page</td>\n",
       "      <td>treatment</td>\n",
       "    </tr>\n",
       "    <tr>\n",
       "      <th>2017-01-24 13:41:52.604673</th>\n",
       "      <td>0</td>\n",
       "      <td>old_page</td>\n",
       "      <td>control</td>\n",
       "    </tr>\n",
       "    <tr>\n",
       "      <th>2017-01-24 13:41:54.460509</th>\n",
       "      <td>0</td>\n",
       "      <td>old_page</td>\n",
       "      <td>control</td>\n",
       "    </tr>\n",
       "  </tbody>\n",
       "</table>\n",
       "<p>290584 rows × 3 columns</p>\n",
       "</div>"
      ],
      "text/plain": [
       "                            converted landing_page      group\n",
       "timestamp                                                    \n",
       "2017-01-02 13:42:05.378582          0     new_page  treatment\n",
       "2017-01-02 13:42:15.234051          0     old_page    control\n",
       "2017-01-02 13:42:21.786186          0     old_page    control\n",
       "2017-01-02 13:42:26.640581          0     new_page  treatment\n",
       "2017-01-02 13:42:27.851110          0     new_page  treatment\n",
       "...                               ...          ...        ...\n",
       "2017-01-24 13:41:18.869978          0     old_page  treatment\n",
       "2017-01-24 13:41:19.152664          0     old_page    control\n",
       "2017-01-24 13:41:44.097174          0     new_page  treatment\n",
       "2017-01-24 13:41:52.604673          0     old_page    control\n",
       "2017-01-24 13:41:54.460509          0     old_page    control\n",
       "\n",
       "[290584 rows x 3 columns]"
      ]
     },
     "execution_count": 10,
     "metadata": {},
     "output_type": "execute_result"
    }
   ],
   "source": [
    "ts=data[['converted','landing_page','group']].set_index(data['timestamp']).sort_index(ascending=True)\n",
    "ts"
   ]
  },
  {
   "cell_type": "markdown",
   "id": "4ed06171",
   "metadata": {},
   "source": [
    "### Ready to Work"
   ]
  },
  {
   "cell_type": "code",
   "execution_count": 24,
   "id": "d49aaf97",
   "metadata": {},
   "outputs": [],
   "source": [
    "ts_new_page = ts.loc[ts['landing_page'] == 'new_page']"
   ]
  },
  {
   "cell_type": "code",
   "execution_count": 25,
   "id": "3b237e8e",
   "metadata": {},
   "outputs": [
    {
     "data": {
      "text/html": [
       "<div>\n",
       "<style scoped>\n",
       "    .dataframe tbody tr th:only-of-type {\n",
       "        vertical-align: middle;\n",
       "    }\n",
       "\n",
       "    .dataframe tbody tr th {\n",
       "        vertical-align: top;\n",
       "    }\n",
       "\n",
       "    .dataframe thead th {\n",
       "        text-align: right;\n",
       "    }\n",
       "</style>\n",
       "<table border=\"1\" class=\"dataframe\">\n",
       "  <thead>\n",
       "    <tr style=\"text-align: right;\">\n",
       "      <th></th>\n",
       "      <th>daily acess</th>\n",
       "      <th>daily conversion</th>\n",
       "      <th>daily conversion ratio</th>\n",
       "      <th>daily conversion ratio std</th>\n",
       "    </tr>\n",
       "    <tr>\n",
       "      <th>timestamp</th>\n",
       "      <th></th>\n",
       "      <th></th>\n",
       "      <th></th>\n",
       "      <th></th>\n",
       "    </tr>\n",
       "  </thead>\n",
       "  <tbody>\n",
       "    <tr>\n",
       "      <th>2017-01-02</th>\n",
       "      <td>2850</td>\n",
       "      <td>340</td>\n",
       "      <td>0.119298</td>\n",
       "      <td>0.324196</td>\n",
       "    </tr>\n",
       "    <tr>\n",
       "      <th>2017-01-03</th>\n",
       "      <td>6631</td>\n",
       "      <td>755</td>\n",
       "      <td>0.113859</td>\n",
       "      <td>0.317664</td>\n",
       "    </tr>\n",
       "    <tr>\n",
       "      <th>2017-01-04</th>\n",
       "      <td>6538</td>\n",
       "      <td>763</td>\n",
       "      <td>0.116702</td>\n",
       "      <td>0.321090</td>\n",
       "    </tr>\n",
       "    <tr>\n",
       "      <th>2017-01-05</th>\n",
       "      <td>6503</td>\n",
       "      <td>742</td>\n",
       "      <td>0.114101</td>\n",
       "      <td>0.317959</td>\n",
       "    </tr>\n",
       "    <tr>\n",
       "      <th>2017-01-06</th>\n",
       "      <td>6740</td>\n",
       "      <td>837</td>\n",
       "      <td>0.124184</td>\n",
       "      <td>0.329816</td>\n",
       "    </tr>\n",
       "    <tr>\n",
       "      <th>2017-01-07</th>\n",
       "      <td>6598</td>\n",
       "      <td>765</td>\n",
       "      <td>0.115944</td>\n",
       "      <td>0.320182</td>\n",
       "    </tr>\n",
       "    <tr>\n",
       "      <th>2017-01-08</th>\n",
       "      <td>6710</td>\n",
       "      <td>815</td>\n",
       "      <td>0.121461</td>\n",
       "      <td>0.326686</td>\n",
       "    </tr>\n",
       "    <tr>\n",
       "      <th>2017-01-09</th>\n",
       "      <td>6613</td>\n",
       "      <td>782</td>\n",
       "      <td>0.118252</td>\n",
       "      <td>0.322931</td>\n",
       "    </tr>\n",
       "    <tr>\n",
       "      <th>2017-01-10</th>\n",
       "      <td>6691</td>\n",
       "      <td>850</td>\n",
       "      <td>0.127036</td>\n",
       "      <td>0.333039</td>\n",
       "    </tr>\n",
       "    <tr>\n",
       "      <th>2017-01-11</th>\n",
       "      <td>6692</td>\n",
       "      <td>772</td>\n",
       "      <td>0.115362</td>\n",
       "      <td>0.319482</td>\n",
       "    </tr>\n",
       "    <tr>\n",
       "      <th>2017-01-12</th>\n",
       "      <td>6642</td>\n",
       "      <td>807</td>\n",
       "      <td>0.121500</td>\n",
       "      <td>0.326732</td>\n",
       "    </tr>\n",
       "    <tr>\n",
       "      <th>2017-01-13</th>\n",
       "      <td>6516</td>\n",
       "      <td>725</td>\n",
       "      <td>0.111265</td>\n",
       "      <td>0.314484</td>\n",
       "    </tr>\n",
       "    <tr>\n",
       "      <th>2017-01-14</th>\n",
       "      <td>6605</td>\n",
       "      <td>790</td>\n",
       "      <td>0.119606</td>\n",
       "      <td>0.324525</td>\n",
       "    </tr>\n",
       "    <tr>\n",
       "      <th>2017-01-15</th>\n",
       "      <td>6560</td>\n",
       "      <td>744</td>\n",
       "      <td>0.113415</td>\n",
       "      <td>0.317123</td>\n",
       "    </tr>\n",
       "    <tr>\n",
       "      <th>2017-01-16</th>\n",
       "      <td>6537</td>\n",
       "      <td>784</td>\n",
       "      <td>0.119933</td>\n",
       "      <td>0.324908</td>\n",
       "    </tr>\n",
       "    <tr>\n",
       "      <th>2017-01-17</th>\n",
       "      <td>6537</td>\n",
       "      <td>829</td>\n",
       "      <td>0.126817</td>\n",
       "      <td>0.332793</td>\n",
       "    </tr>\n",
       "    <tr>\n",
       "      <th>2017-01-18</th>\n",
       "      <td>6602</td>\n",
       "      <td>817</td>\n",
       "      <td>0.123750</td>\n",
       "      <td>0.329321</td>\n",
       "    </tr>\n",
       "    <tr>\n",
       "      <th>2017-01-19</th>\n",
       "      <td>6551</td>\n",
       "      <td>761</td>\n",
       "      <td>0.116165</td>\n",
       "      <td>0.320448</td>\n",
       "    </tr>\n",
       "    <tr>\n",
       "      <th>2017-01-20</th>\n",
       "      <td>6695</td>\n",
       "      <td>787</td>\n",
       "      <td>0.117550</td>\n",
       "      <td>0.322099</td>\n",
       "    </tr>\n",
       "    <tr>\n",
       "      <th>2017-01-21</th>\n",
       "      <td>6557</td>\n",
       "      <td>758</td>\n",
       "      <td>0.115602</td>\n",
       "      <td>0.319771</td>\n",
       "    </tr>\n",
       "    <tr>\n",
       "      <th>2017-01-22</th>\n",
       "      <td>6648</td>\n",
       "      <td>782</td>\n",
       "      <td>0.117629</td>\n",
       "      <td>0.322193</td>\n",
       "    </tr>\n",
       "    <tr>\n",
       "      <th>2017-01-23</th>\n",
       "      <td>6621</td>\n",
       "      <td>808</td>\n",
       "      <td>0.122036</td>\n",
       "      <td>0.327352</td>\n",
       "    </tr>\n",
       "    <tr>\n",
       "      <th>2017-01-24</th>\n",
       "      <td>3683</td>\n",
       "      <td>443</td>\n",
       "      <td>0.120282</td>\n",
       "      <td>0.325336</td>\n",
       "    </tr>\n",
       "  </tbody>\n",
       "</table>\n",
       "</div>"
      ],
      "text/plain": [
       "            daily acess  daily conversion  daily conversion ratio  \\\n",
       "timestamp                                                           \n",
       "2017-01-02         2850               340                0.119298   \n",
       "2017-01-03         6631               755                0.113859   \n",
       "2017-01-04         6538               763                0.116702   \n",
       "2017-01-05         6503               742                0.114101   \n",
       "2017-01-06         6740               837                0.124184   \n",
       "2017-01-07         6598               765                0.115944   \n",
       "2017-01-08         6710               815                0.121461   \n",
       "2017-01-09         6613               782                0.118252   \n",
       "2017-01-10         6691               850                0.127036   \n",
       "2017-01-11         6692               772                0.115362   \n",
       "2017-01-12         6642               807                0.121500   \n",
       "2017-01-13         6516               725                0.111265   \n",
       "2017-01-14         6605               790                0.119606   \n",
       "2017-01-15         6560               744                0.113415   \n",
       "2017-01-16         6537               784                0.119933   \n",
       "2017-01-17         6537               829                0.126817   \n",
       "2017-01-18         6602               817                0.123750   \n",
       "2017-01-19         6551               761                0.116165   \n",
       "2017-01-20         6695               787                0.117550   \n",
       "2017-01-21         6557               758                0.115602   \n",
       "2017-01-22         6648               782                0.117629   \n",
       "2017-01-23         6621               808                0.122036   \n",
       "2017-01-24         3683               443                0.120282   \n",
       "\n",
       "            daily conversion ratio std  \n",
       "timestamp                               \n",
       "2017-01-02                    0.324196  \n",
       "2017-01-03                    0.317664  \n",
       "2017-01-04                    0.321090  \n",
       "2017-01-05                    0.317959  \n",
       "2017-01-06                    0.329816  \n",
       "2017-01-07                    0.320182  \n",
       "2017-01-08                    0.326686  \n",
       "2017-01-09                    0.322931  \n",
       "2017-01-10                    0.333039  \n",
       "2017-01-11                    0.319482  \n",
       "2017-01-12                    0.326732  \n",
       "2017-01-13                    0.314484  \n",
       "2017-01-14                    0.324525  \n",
       "2017-01-15                    0.317123  \n",
       "2017-01-16                    0.324908  \n",
       "2017-01-17                    0.332793  \n",
       "2017-01-18                    0.329321  \n",
       "2017-01-19                    0.320448  \n",
       "2017-01-20                    0.322099  \n",
       "2017-01-21                    0.319771  \n",
       "2017-01-22                    0.322193  \n",
       "2017-01-23                    0.327352  \n",
       "2017-01-24                    0.325336  "
      ]
     },
     "execution_count": 25,
     "metadata": {},
     "output_type": "execute_result"
    }
   ],
   "source": [
    "ts_new_count= ts_new_page[['converted']].resample('D').count().rename(columns={'converted':'daily acess'})\n",
    "ts_new_sum = ts_new_page.resample('D').sum().rename(columns={'converted':'daily conversion'})\n",
    "ts_new_mean = ts_new_page.resample('D').mean().rename(columns={'converted':'daily conversion ratio'})\n",
    "ts_new_std = ts_new_page.resample('D').std().rename(columns={'converted':'daily conversion ratio std'})\n",
    "ts_new_results = pd.concat([ts_new_count, ts_new_sum, ts_new_mean, ts_new_std], axis=1)\n",
    "ts_new_results"
   ]
  },
  {
   "cell_type": "code",
   "execution_count": 26,
   "id": "b4a6a06f",
   "metadata": {},
   "outputs": [],
   "source": [
    "ts_old_page = ts.loc[ts['landing_page'] == 'old_page']"
   ]
  },
  {
   "cell_type": "code",
   "execution_count": 27,
   "id": "50b90a01",
   "metadata": {},
   "outputs": [
    {
     "data": {
      "text/html": [
       "<div>\n",
       "<style scoped>\n",
       "    .dataframe tbody tr th:only-of-type {\n",
       "        vertical-align: middle;\n",
       "    }\n",
       "\n",
       "    .dataframe tbody tr th {\n",
       "        vertical-align: top;\n",
       "    }\n",
       "\n",
       "    .dataframe thead th {\n",
       "        text-align: right;\n",
       "    }\n",
       "</style>\n",
       "<table border=\"1\" class=\"dataframe\">\n",
       "  <thead>\n",
       "    <tr style=\"text-align: right;\">\n",
       "      <th></th>\n",
       "      <th>daily acess</th>\n",
       "      <th>daily conversion</th>\n",
       "      <th>daily conversion ratio</th>\n",
       "      <th>daily conversion ratio std</th>\n",
       "    </tr>\n",
       "    <tr>\n",
       "      <th>timestamp</th>\n",
       "      <th></th>\n",
       "      <th></th>\n",
       "      <th></th>\n",
       "      <th></th>\n",
       "    </tr>\n",
       "  </thead>\n",
       "  <tbody>\n",
       "    <tr>\n",
       "      <th>2017-01-02</th>\n",
       "      <td>2848</td>\n",
       "      <td>357</td>\n",
       "      <td>0.125351</td>\n",
       "      <td>0.331175</td>\n",
       "    </tr>\n",
       "    <tr>\n",
       "      <th>2017-01-03</th>\n",
       "      <td>6589</td>\n",
       "      <td>747</td>\n",
       "      <td>0.113371</td>\n",
       "      <td>0.317070</td>\n",
       "    </tr>\n",
       "    <tr>\n",
       "      <th>2017-01-04</th>\n",
       "      <td>6568</td>\n",
       "      <td>800</td>\n",
       "      <td>0.121803</td>\n",
       "      <td>0.327083</td>\n",
       "    </tr>\n",
       "    <tr>\n",
       "      <th>2017-01-05</th>\n",
       "      <td>6417</td>\n",
       "      <td>793</td>\n",
       "      <td>0.123578</td>\n",
       "      <td>0.329125</td>\n",
       "    </tr>\n",
       "    <tr>\n",
       "      <th>2017-01-06</th>\n",
       "      <td>6612</td>\n",
       "      <td>766</td>\n",
       "      <td>0.115850</td>\n",
       "      <td>0.320069</td>\n",
       "    </tr>\n",
       "    <tr>\n",
       "      <th>2017-01-07</th>\n",
       "      <td>6601</td>\n",
       "      <td>796</td>\n",
       "      <td>0.120588</td>\n",
       "      <td>0.325672</td>\n",
       "    </tr>\n",
       "    <tr>\n",
       "      <th>2017-01-08</th>\n",
       "      <td>6677</td>\n",
       "      <td>794</td>\n",
       "      <td>0.118916</td>\n",
       "      <td>0.323714</td>\n",
       "    </tr>\n",
       "    <tr>\n",
       "      <th>2017-01-09</th>\n",
       "      <td>6635</td>\n",
       "      <td>791</td>\n",
       "      <td>0.119216</td>\n",
       "      <td>0.324067</td>\n",
       "    </tr>\n",
       "    <tr>\n",
       "      <th>2017-01-10</th>\n",
       "      <td>6653</td>\n",
       "      <td>757</td>\n",
       "      <td>0.113783</td>\n",
       "      <td>0.317572</td>\n",
       "    </tr>\n",
       "    <tr>\n",
       "      <th>2017-01-11</th>\n",
       "      <td>6689</td>\n",
       "      <td>797</td>\n",
       "      <td>0.119151</td>\n",
       "      <td>0.323990</td>\n",
       "    </tr>\n",
       "    <tr>\n",
       "      <th>2017-01-12</th>\n",
       "      <td>6515</td>\n",
       "      <td>793</td>\n",
       "      <td>0.121719</td>\n",
       "      <td>0.326986</td>\n",
       "    </tr>\n",
       "    <tr>\n",
       "      <th>2017-01-13</th>\n",
       "      <td>6555</td>\n",
       "      <td>769</td>\n",
       "      <td>0.117315</td>\n",
       "      <td>0.321820</td>\n",
       "    </tr>\n",
       "    <tr>\n",
       "      <th>2017-01-14</th>\n",
       "      <td>6549</td>\n",
       "      <td>830</td>\n",
       "      <td>0.126737</td>\n",
       "      <td>0.332703</td>\n",
       "    </tr>\n",
       "    <tr>\n",
       "      <th>2017-01-15</th>\n",
       "      <td>6705</td>\n",
       "      <td>808</td>\n",
       "      <td>0.120507</td>\n",
       "      <td>0.325578</td>\n",
       "    </tr>\n",
       "    <tr>\n",
       "      <th>2017-01-16</th>\n",
       "      <td>6592</td>\n",
       "      <td>807</td>\n",
       "      <td>0.122421</td>\n",
       "      <td>0.327796</td>\n",
       "    </tr>\n",
       "    <tr>\n",
       "      <th>2017-01-17</th>\n",
       "      <td>6625</td>\n",
       "      <td>816</td>\n",
       "      <td>0.123170</td>\n",
       "      <td>0.328657</td>\n",
       "    </tr>\n",
       "    <tr>\n",
       "      <th>2017-01-18</th>\n",
       "      <td>6507</td>\n",
       "      <td>807</td>\n",
       "      <td>0.124020</td>\n",
       "      <td>0.329630</td>\n",
       "    </tr>\n",
       "    <tr>\n",
       "      <th>2017-01-19</th>\n",
       "      <td>6574</td>\n",
       "      <td>788</td>\n",
       "      <td>0.119866</td>\n",
       "      <td>0.324830</td>\n",
       "    </tr>\n",
       "    <tr>\n",
       "      <th>2017-01-20</th>\n",
       "      <td>6534</td>\n",
       "      <td>749</td>\n",
       "      <td>0.114631</td>\n",
       "      <td>0.318601</td>\n",
       "    </tr>\n",
       "    <tr>\n",
       "      <th>2017-01-21</th>\n",
       "      <td>6748</td>\n",
       "      <td>849</td>\n",
       "      <td>0.125815</td>\n",
       "      <td>0.331665</td>\n",
       "    </tr>\n",
       "    <tr>\n",
       "      <th>2017-01-22</th>\n",
       "      <td>6593</td>\n",
       "      <td>786</td>\n",
       "      <td>0.119217</td>\n",
       "      <td>0.324069</td>\n",
       "    </tr>\n",
       "    <tr>\n",
       "      <th>2017-01-23</th>\n",
       "      <td>6722</td>\n",
       "      <td>848</td>\n",
       "      <td>0.126153</td>\n",
       "      <td>0.332046</td>\n",
       "    </tr>\n",
       "    <tr>\n",
       "      <th>2017-01-24</th>\n",
       "      <td>3756</td>\n",
       "      <td>441</td>\n",
       "      <td>0.117412</td>\n",
       "      <td>0.321954</td>\n",
       "    </tr>\n",
       "  </tbody>\n",
       "</table>\n",
       "</div>"
      ],
      "text/plain": [
       "            daily acess  daily conversion  daily conversion ratio  \\\n",
       "timestamp                                                           \n",
       "2017-01-02         2848               357                0.125351   \n",
       "2017-01-03         6589               747                0.113371   \n",
       "2017-01-04         6568               800                0.121803   \n",
       "2017-01-05         6417               793                0.123578   \n",
       "2017-01-06         6612               766                0.115850   \n",
       "2017-01-07         6601               796                0.120588   \n",
       "2017-01-08         6677               794                0.118916   \n",
       "2017-01-09         6635               791                0.119216   \n",
       "2017-01-10         6653               757                0.113783   \n",
       "2017-01-11         6689               797                0.119151   \n",
       "2017-01-12         6515               793                0.121719   \n",
       "2017-01-13         6555               769                0.117315   \n",
       "2017-01-14         6549               830                0.126737   \n",
       "2017-01-15         6705               808                0.120507   \n",
       "2017-01-16         6592               807                0.122421   \n",
       "2017-01-17         6625               816                0.123170   \n",
       "2017-01-18         6507               807                0.124020   \n",
       "2017-01-19         6574               788                0.119866   \n",
       "2017-01-20         6534               749                0.114631   \n",
       "2017-01-21         6748               849                0.125815   \n",
       "2017-01-22         6593               786                0.119217   \n",
       "2017-01-23         6722               848                0.126153   \n",
       "2017-01-24         3756               441                0.117412   \n",
       "\n",
       "            daily conversion ratio std  \n",
       "timestamp                               \n",
       "2017-01-02                    0.331175  \n",
       "2017-01-03                    0.317070  \n",
       "2017-01-04                    0.327083  \n",
       "2017-01-05                    0.329125  \n",
       "2017-01-06                    0.320069  \n",
       "2017-01-07                    0.325672  \n",
       "2017-01-08                    0.323714  \n",
       "2017-01-09                    0.324067  \n",
       "2017-01-10                    0.317572  \n",
       "2017-01-11                    0.323990  \n",
       "2017-01-12                    0.326986  \n",
       "2017-01-13                    0.321820  \n",
       "2017-01-14                    0.332703  \n",
       "2017-01-15                    0.325578  \n",
       "2017-01-16                    0.327796  \n",
       "2017-01-17                    0.328657  \n",
       "2017-01-18                    0.329630  \n",
       "2017-01-19                    0.324830  \n",
       "2017-01-20                    0.318601  \n",
       "2017-01-21                    0.331665  \n",
       "2017-01-22                    0.324069  \n",
       "2017-01-23                    0.332046  \n",
       "2017-01-24                    0.321954  "
      ]
     },
     "execution_count": 27,
     "metadata": {},
     "output_type": "execute_result"
    }
   ],
   "source": [
    "ts_old_count= ts_old_page[['converted']].resample('D').count().rename(columns={'converted':'daily acess'})\n",
    "ts_old_sum = ts_old_page.resample('D').sum().rename(columns={'converted':'daily conversion'})\n",
    "ts_old_mean = ts_old_page.resample('D').mean().rename(columns={'converted':'daily conversion ratio'})\n",
    "ts_old_std = ts_old_page.resample('D').std().rename(columns={'converted':'daily conversion ratio std'})\n",
    "ts_old_results = pd.concat([ts_old_count, ts_old_sum, ts_old_mean, ts_old_std], axis=1)\n",
    "ts_old_results"
   ]
  },
  {
   "cell_type": "code",
   "execution_count": 28,
   "id": "22082da6",
   "metadata": {},
   "outputs": [
    {
     "data": {
      "text/plain": [
       "<AxesSubplot:title={'center':'Webpage daily conversion'}, xlabel='timestamp', ylabel='daily conversion'>"
      ]
     },
     "execution_count": 28,
     "metadata": {},
     "output_type": "execute_result"
    },
    {
     "data": {
      "image/png": "[encoded data removed]",
      "text/plain": [
       "<Figure size 1440x432 with 1 Axes>"
      ]
     },
     "metadata": {
      "needs_background": "light"
     },
     "output_type": "display_data"
    }
   ],
   "source": [
    "plt.figure(figsize=(20,6))\n",
    "plt.title(\"Webpage daily conversion\", fontsize=14)\n",
    "sns.lineplot(data = ts_old_results, x =ts_old_results.index, y = \"daily conversion\", label='Old')\n",
    "sns.lineplot(data = ts_new_results, x =ts_new_results.index, y = \"daily conversion\", label='New')"
   ]
  },
  {
   "cell_type": "code",
   "execution_count": 29,
   "id": "dcb6778b",
   "metadata": {},
   "outputs": [
    {
     "data": {
      "text/plain": [
       "<AxesSubplot:title={'center':'Webpage daily conversion rate'}, xlabel='timestamp', ylabel='daily conversion ratio'>"
      ]
     },
     "execution_count": 29,
     "metadata": {},
     "output_type": "execute_result"
    },
    {
     "data": {
      "image/png": "[encoded data removed]",
      "text/plain": [
       "<Figure size 1440x720 with 1 Axes>"
      ]
     },
     "metadata": {
      "needs_background": "light"
     },
     "output_type": "display_data"
    }
   ],
   "source": [
    "plt.figure(figsize=(20,10))\n",
    "plt.title(\"Webpage daily conversion rate\", fontsize=14)\n",
    "sns.lineplot(data = ts_old_results, x =ts_old_results.index, y = \"daily conversion ratio\", label='Old')\n",
    "sns.lineplot(data = ts_new_results, x =ts_new_results.index, y = \"daily conversion ratio\", label='New')"
   ]
  },
  {
   "cell_type": "code",
   "execution_count": 30,
   "id": "dfeb8c29",
   "metadata": {},
   "outputs": [
    {
     "data": {
      "text/html": [
       "<div>\n",
       "<style scoped>\n",
       "    .dataframe tbody tr th:only-of-type {\n",
       "        vertical-align: middle;\n",
       "    }\n",
       "\n",
       "    .dataframe tbody tr th {\n",
       "        vertical-align: top;\n",
       "    }\n",
       "\n",
       "    .dataframe thead th {\n",
       "        text-align: right;\n",
       "    }\n",
       "</style>\n",
       "<table border=\"1\" class=\"dataframe\">\n",
       "  <thead>\n",
       "    <tr style=\"text-align: right;\">\n",
       "      <th></th>\n",
       "      <th>counts</th>\n",
       "      <th>converted mean</th>\n",
       "      <th>converted sum</th>\n",
       "    </tr>\n",
       "    <tr>\n",
       "      <th>landing_page</th>\n",
       "      <th></th>\n",
       "      <th></th>\n",
       "      <th></th>\n",
       "    </tr>\n",
       "  </thead>\n",
       "  <tbody>\n",
       "    <tr>\n",
       "      <th>new_page</th>\n",
       "      <td>145320</td>\n",
       "      <td>0.118745</td>\n",
       "      <td>17256</td>\n",
       "    </tr>\n",
       "    <tr>\n",
       "      <th>old_page</th>\n",
       "      <td>145264</td>\n",
       "      <td>0.120395</td>\n",
       "      <td>17489</td>\n",
       "    </tr>\n",
       "  </tbody>\n",
       "</table>\n",
       "</div>"
      ],
      "text/plain": [
       "              counts  converted mean  converted sum\n",
       "landing_page                                       \n",
       "new_page      145320        0.118745          17256\n",
       "old_page      145264        0.120395          17489"
      ]
     },
     "execution_count": 30,
     "metadata": {},
     "output_type": "execute_result"
    }
   ],
   "source": [
    "data_gc = data.groupby(['landing_page','converted']).agg({'converted': len}).rename(columns={'converted':'converted counts'})\n",
    "data_gct = data.groupby('landing_page').agg({'converted': len}).rename(columns={'converted':'counts'})\n",
    "data_gm = data.groupby('landing_page').agg({'converted': np.mean, 'converted': np.mean}).rename(columns={'converted':'converted mean'})\n",
    "data_gs = data.groupby('landing_page').agg({'converted': np.sum, 'converted': np.sum}).rename(columns={'converted':'converted sum'})\n",
    "# data_gc = data.groupby('group').agg({'spent': len, 'purchases': len}).rename(columns={'spent':'spent counts', 'purchases':'purchases counts'})\n",
    "\n",
    "resume_pages = pd.concat([data_gct, data_gm, data_gs], axis=1)\n",
    "resume_pages"
   ]
  },
  {
   "cell_type": "markdown",
   "id": "0e787efd",
   "metadata": {},
   "source": [
    "### Teste de Normalidade\n",
    "\n",
    "$H_{0}:$ , a taxa média de conversões segue uma distribuição é Normal<br>\n",
    "$H_{1}:$ , a taxa média de conversões não segue uma distribuição é Normal<br>"
   ]
  },
  {
   "cell_type": "code",
   "execution_count": 31,
   "id": "74b022d8",
   "metadata": {},
   "outputs": [],
   "source": [
    "old_page=ts_old_results['daily conversion ratio'].to_numpy()\n",
    "new_page=ts_new_results['daily conversion ratio'].to_numpy()"
   ]
  },
  {
   "cell_type": "code",
   "execution_count": 32,
   "id": "dbd09c2a",
   "metadata": {},
   "outputs": [],
   "source": [
    "def check_normality(data, data_name=''):\n",
    "    test_stat_normality, p_value_normality=stats.shapiro(data)\n",
    "    print(f\"p-value =  {p_value_normality:.4f}\")  \n",
    "    \n",
    "    alpha= 0.05\n",
    "    \n",
    "    plt.figure(figsize=(12,7))\n",
    "    plt.subplot( 2, 2, 1)\n",
    "    sns.distplot(data, fit=norm);\n",
    "    plt.subplot( 2, 2, 2)\n",
    "    stats.probplot(data, plot=plt);\n",
    "    \n",
    "    if p_value_normality < alpha:\n",
    "        print(f'Rejeitamos H0, a distribuição {data_name} não é normal. \\n')\n",
    "    else:\n",
    "        print(f'Aceitamos H0, a distribuição {data_name} é normal. \\n')  "
   ]
  },
  {
   "cell_type": "code",
   "execution_count": 33,
   "id": "b5fdf0ee",
   "metadata": {},
   "outputs": [
    {
     "name": "stdout",
     "output_type": "stream",
     "text": [
      "p-value =  0.6026\n",
      "Aceitamos H0, a distribuição da \"pagina antiga\" é normal. \n",
      "\n"
     ]
    },
    {
     "name": "stderr",
     "output_type": "stream",
     "text": [
      "C:\\Users\\Alysson\\anaconda3\\lib\\site-packages\\seaborn\\distributions.py:2619: FutureWarning: `distplot` is a deprecated function and will be removed in a future version. Please adapt your code to use either `displot` (a figure-level function with similar flexibility) or `histplot` (an axes-level function for histograms).\n",
      "  warnings.warn(msg, FutureWarning)\n"
     ]
    },
    {
     "data": {
      "image/png": "[encoded data removed]",
      "text/plain": [
       "<Figure size 864x504 with 2 Axes>"
      ]
     },
     "metadata": {
      "needs_background": "light"
     },
     "output_type": "display_data"
    }
   ],
   "source": [
    "check_normality(old_page, 'da \"pagina antiga\"')"
   ]
  },
  {
   "cell_type": "code",
   "execution_count": 34,
   "id": "f36ac261",
   "metadata": {},
   "outputs": [
    {
     "name": "stdout",
     "output_type": "stream",
     "text": [
      "p-value =  0.7877\n",
      "Aceitamos H0, a distribuição da \"pagina nova\" é normal. \n",
      "\n"
     ]
    },
    {
     "name": "stderr",
     "output_type": "stream",
     "text": [
      "C:\\Users\\Alysson\\anaconda3\\lib\\site-packages\\seaborn\\distributions.py:2619: FutureWarning: `distplot` is a deprecated function and will be removed in a future version. Please adapt your code to use either `displot` (a figure-level function with similar flexibility) or `histplot` (an axes-level function for histograms).\n",
      "  warnings.warn(msg, FutureWarning)\n"
     ]
    },
    {
     "data": {
      "image/png": "[encoded data removed]",
      "text/plain": [
       "<Figure size 864x504 with 2 Axes>"
      ]
     },
     "metadata": {
      "needs_background": "light"
     },
     "output_type": "display_data"
    }
   ],
   "source": [
    "check_normality(new_page, 'da \"pagina nova\"')"
   ]
  },
  {
   "cell_type": "markdown",
   "id": "0737666d",
   "metadata": {},
   "source": [
    "### Teste de Variancia\n",
    "\n",
    "$H_{0}:$ , a variancia é a mesma<br>\n",
    "$H_{1}:$ , a variancia não é a mesma"
   ]
  },
  {
   "cell_type": "code",
   "execution_count": 35,
   "id": "5eb85428",
   "metadata": {},
   "outputs": [
    {
     "name": "stdout",
     "output_type": "stream",
     "text": [
      "p value:0.7217\n",
      "Aceitamos H0 a variancia das amostras é a mesma.\n"
     ]
    }
   ],
   "source": [
    "stat, pvalue_levene= stats.levene(old_page,new_page)\n",
    "\n",
    "print(\"p value:%.4f\" % pvalue_levene)\n",
    "if pvalue_levene <0.05:\n",
    "    print(\"Rejeitamos H0 a variancia das amostras são diferentes.\")\n",
    "else:\n",
    "    print(\"Aceitamos H0 a variancia das amostras é a mesma.\")"
   ]
  },
  {
   "cell_type": "markdown",
   "id": "589f01aa",
   "metadata": {},
   "source": [
    "### Assumptions:\n",
    "\n",
    "**A distribuição é continua ou discreta?**\n",
    "* Continua, pois a taxa média de conversão é um valor continuo.\n",
    "\n",
    "**As distribuições são dependentes ou independentes?** \n",
    "* Independendes, pois um mesmo usuário acessa apenas uma unica pagina uma unica vez.\n",
    "  \n",
    "**A distribuição é normal?** \n",
    "* Sim, pois passaram no teste de normalidade de Shapiro- Wilk\n",
    "  \n",
    "**A variancia é a mesma?** \n",
    "* Sim, pois passaram no teste de variancia de levene \n",
    "\n",
    "**Quantos grupos?** \n",
    "* Dois\n",
    "\n",
    "\n",
    "Seguindo o diagrama o teste de hipoteses escolhido será o **T Test** para amostras independentes, paramétricas, com dois grupos."
   ]
  },
  {
   "cell_type": "code",
   "execution_count": 36,
   "id": "cbaa290b",
   "metadata": {},
   "outputs": [
    {
     "name": "stdout",
     "output_type": "stream",
     "text": [
      "p-value =  0.16676644\n",
      "Aceita H0\n"
     ]
    }
   ],
   "source": [
    "ttest,p_value = stats.ttest_ind(old_page,new_page)\n",
    "print(f\"p-value =  {p_value:.8f}\")\n",
    "if p_value <0.05:\n",
    "    print(\"Rejeita H0\")\n",
    "else:\n",
    "    print(\"Aceita H0\")"
   ]
  },
  {
   "cell_type": "markdown",
   "id": "4a3f0d29",
   "metadata": {},
   "source": [
    "## Conclusão\n",
    "\n",
    "Nesse nível de significância, há evidências suficientes para concluir que a taxa média de conversão da pagina antiga é igual a taxa média de conversão da pagina nova. Em outras palavras a pagina nova não obteve os resultados esperados, outro estudo seria necessário para averiguar as causas."
   ]
  },
  {
   "cell_type": "markdown",
   "id": "ce453478",
   "metadata": {},
   "source": [
    "## Q & A\n",
    "\n",
    "Apesar dessa ser uma base de estudos ela é totalmente aplicavel num exemplo real e algumas perguntas/respostas interessantes podem ser feitas a partir desse estudo..."
   ]
  },
  {
   "cell_type": "markdown",
   "id": "a2dbb1bb",
   "metadata": {},
   "source": [
    "**Quantas amostras são necessárias para termos resultados estatisticos significantes?**"
   ]
  },
  {
   "cell_type": "code",
   "execution_count": 37,
   "id": "5836610c",
   "metadata": {},
   "outputs": [
    {
     "name": "stdout",
     "output_type": "stream",
     "text": [
      "Serão necessárias 4720 amostras para cada grupo.\n"
     ]
    }
   ],
   "source": [
    "effect_size = sms.proportion_effectsize(0.13, 0.15)    # Choen d\n",
    "\n",
    "# baseline_rate = conversions_control / total_users_control\n",
    "# practical_significance = 0.02 #user defined\n",
    "# effect_size = sms.proportion_effectsize(baseline_rate, baseline_rate + practical_significance)\n",
    "\n",
    "\n",
    "# Calcula o numero de amostras necessárias \n",
    "required_n = sms.NormalIndPower().solve_power(\n",
    "    effect_size, \n",
    "    power=0.8, # 1 - Beta >> Comumente o Beta é escolhido como 0.2\n",
    "    alpha=0.05, \n",
    "    ratio=1\n",
    "    )                                                  \n",
    "\n",
    "# arredonta o numero para cima e o mantém como inteiro \n",
    "required_n = ceil(required_n)                                                  \n",
    "\n",
    "print(f\"Serão necessárias {required_n} amostras para cada grupo.\")"
   ]
  },
  {
   "cell_type": "markdown",
   "id": "882f3f92",
   "metadata": {},
   "source": [
    "Em outras palavras são necessáriois no minimo 4720  amostras para cada pagina para que nosso teste tenha 80% de chance de retornar resultados significantes estatisticamente\n",
    "\n",
    "No entando a taxa média de conversão apresentou valores inferiores a 13% em todos os dias avaliados, o que leva a crer ou que o product Manager nos forneceu uma informação errada ou a nossa amostra é baixa comparado a taxa média anual."
   ]
  },
  {
   "cell_type": "markdown",
   "id": "77d17408",
   "metadata": {},
   "source": [
    "**Quanto tempo devemos executar nossos testes?**\n",
    "\n",
    "Não existe uma resposta certa, nessa base de dados o autor original testou diariamente metade dos usuários na página nova, esse numero poderia ser menor, a nivel estatistico seriam necessárias no mínimo 4720 amostras de cada pagina, o que no segundo dia de experimento foi alcançado."
   ]
  },
  {
   "cell_type": "markdown",
   "id": "c9f25290",
   "metadata": {},
   "source": [
    "**Quando deveriamos parar de executar nossos testes?**\n",
    "\n",
    "Neste exemplo a taxa de média de conversão diaria da pagina nova foi menor que a taxa de conversão da pagina antiga na maioria dos dias, não há nenhum indício que a taxa de média de conversão diaria da pagina nova iria aumentar se continuássemos os testes."
   ]
  },
  {
   "cell_type": "markdown",
   "id": "5a90d028",
   "metadata": {},
   "source": [
    "**Como os usuários são encaminhados para as paginas de controle/tratamento?**\n",
    "\n",
    "Neste exemplo o autor original dividiu a base de dados metade para tratamento e metade para controle e coletou as amostras durante 22 dias."
   ]
  },
  {
   "cell_type": "markdown",
   "id": "2022bcc0",
   "metadata": {},
   "source": [
    "**Quais as causa para o fracasso da pagina nova?**\n",
    "\n",
    "Por mais que a intenção da pagina nova seja melhorar, a realidade pode ser diferente algumas das hipoteses podem ser:\n",
    "* Problemas na pagina como lentidão, erro no carregamento do cartão  que fez com que alguns usuários desistissem da compra.\n",
    "* Menus confusos, por mais que a intenção seja melhorar os menus não ficaram tão claros\n",
    "* Os usuários já estavam muito acostumados com a interface antiga e desconfiaram ou não conseguiram usar a pagina nova então acabaram desistindo da compra"
   ]
  }
 ],
 "metadata": {
  "kernelspec": {
   "display_name": "Python 3 (ipykernel)",
   "language": "python",
   "name": "python3"
  },
  "language_info": {
   "codemirror_mode": {
    "name": "ipython",
    "version": 3
   },
   "file_extension": ".py",
   "mimetype": "text/x-python",
   "name": "python",
   "nbconvert_exporter": "python",
   "pygments_lexer": "ipython3",
   "version": "3.9.7"
  }
 },
 "nbformat": 4,
 "nbformat_minor": 5
}
